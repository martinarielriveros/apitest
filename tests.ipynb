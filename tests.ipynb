{
 "cells": [
  {
   "cell_type": "code",
   "execution_count": 3,
   "metadata": {},
   "outputs": [
    {
     "data": {
      "text/plain": [
       "{'negative': 700, 'neutral': 7947, 'positive': 1472}"
      ]
     },
     "execution_count": 3,
     "metadata": {},
     "output_type": "execute_result"
    }
   ],
   "source": [
    "import pandas as pd\n",
    "\n",
    "def sentiment_analysis(year:int):\n",
    "\n",
    "# Example for web testing: https://test-deploy-kvdi.onrender.com/sentiment_analysis/2015\n",
    "\n",
    "# It returns a list with total user reviews categorized by sentiment analisys (Negative, Neutral and Positive) for a given year\n",
    "\n",
    "# Parameters:\n",
    "# - year(int): The year for which recommendations were issued\n",
    "# Return:\n",
    "# - dict: A dictionary with the 3 categories for that year\n",
    "    try:\n",
    "        data = pd.read_csv('function345.csv')    \n",
    "        data['modified_date'] = pd.to_datetime(data['modified_date'])\n",
    "        year_condition = data[data['modified_date'].dt.year==year]\n",
    "\n",
    "        reviews = year_condition.groupby('sentiment_analisys')['user_id'].count().reset_index()\n",
    "        return {\n",
    "                \"negative\":reviews['user_id'].iloc[0],\n",
    "                \"neutral\":reviews['user_id'].iloc[1],\n",
    "                \"positive\":reviews['user_id'].iloc[2]\n",
    "                }\n",
    "    except:\n",
    "         return {'No reviews for year': f'{year}'}\n",
    "    \n",
    "sentiment_analysis(2020)"
   ]
  }
 ],
 "metadata": {
  "kernelspec": {
   "display_name": "Python 3",
   "language": "python",
   "name": "python3"
  },
  "language_info": {
   "codemirror_mode": {
    "name": "ipython",
    "version": 3
   },
   "file_extension": ".py",
   "mimetype": "text/x-python",
   "name": "python",
   "nbconvert_exporter": "python",
   "pygments_lexer": "ipython3",
   "version": "3.11.3"
  }
 },
 "nbformat": 4,
 "nbformat_minor": 2
}
